{
 "cells": [
  {
   "cell_type": "code",
   "execution_count": 15,
   "metadata": {},
   "outputs": [],
   "source": [
    "import tensorflow as tf\n",
    "from tensorflow.keras import Model, layers\n",
    "import ot\n",
    "import numpy as np"
   ]
  },
  {
   "cell_type": "code",
   "execution_count": 2,
   "metadata": {},
   "outputs": [],
   "source": [
    "class InvarianceTestGraph(Model, layers.Layer):\n",
    "    \n",
    "    def __init__(self):\n",
    "        super(InvarianceTestGraph, self).__init__()\n",
    "        \n",
    "        self.weight = {'weight1': self.add_weight(shape=(64, 32), initializer='random_normal', trainable=True), \n",
    "                        'weight2': self.add_weight(shape=(32, 16), initializer='random_normal', trainable=True), \n",
    "                        'weight3': self.add_weight(shape=(16, 6), initializer='random_normal', trainable=True),\n",
    "                        'weight_final': self.add_weight(shape = (6,2), initializer = 'random_normal', trainable = True)}\n",
    "        \n",
    "        self.bias = {'bias1': self.add_weight(shape=(32, ), initializer='random_normal', trainable=True), \n",
    "                        'bias2': self.add_weight(shape=(16, ), initializer='random_normal', trainable=True), \n",
    "                        'bias3': self.add_weight(shape=(6, ), initializer='random_normal', trainable=True),\n",
    "                        'bias_final0': self.add_weight(shape = (2,), initializer = 'random_normal', trainable = True), \n",
    "                        'bias_final1': self.add_weight(shape = (2,), initializer = 'random_normal', trainable = True)}\n",
    "        \n",
    "    def invariantMap(self, x):\n",
    "        out = tf.nn.sigmoid(tf.add(tf.matmul(x, self.weight['weight1']), self.bias['bias1']))\n",
    "        out = tf.nn.sigmoid(tf.add(tf.matmul(out, self.weight['weight2']), self.bias['bias2']))\n",
    "        out = tf.nn.sigmoid(tf.add(tf.matmul(out, self.weight['weight3']), self.bias['bias3']))\n",
    "        return out\n",
    "\n",
    "\n",
    "    def call(self, x, env = 0):\n",
    "        out = self.invariantMap(x)\n",
    "        if env == 0:\n",
    "            out = tf.add(tf.matmul(out, self.weight['weight_final']), self.bias['bias_final0'])\n",
    "        else:\n",
    "            out = tf.add(tf.matmul(out, self.weight['weight_final']), self.bias['bias_final1'])\n",
    "        return out\n",
    "    \n",
    "inv = InvarianceTestGraph()"
   ]
  },
  {
   "cell_type": "code",
   "execution_count": 3,
   "metadata": {},
   "outputs": [],
   "source": [
    "y0 = np.random.binomial(1, 0.5, (1200,))\n",
    "y1 = np.random.binomial(1, 0.8, (1500,))\n",
    "f = lambda y: np.random.normal(1, 1, (64,)) if y else np.random.normal(0, 1, (64,))\n",
    "x0 = [f(y) for y in y0]\n",
    "x1 = [f(y) for y in y1]\n",
    "y0 = tf.one_hot(y0, 2)\n",
    "y1 = tf.one_hot(y1, 2)\n",
    "x0 = tf.cast(x0, dtype=tf.float32)\n",
    "x1 = tf.cast(x1, dtype = tf.float32)\n",
    "batch0 = tf.data.Dataset.from_tensor_slices((x0, y0))\n",
    "batch1 = tf.data.Dataset.from_tensor_slices((x1, y1))\n",
    "batch0 = batch0.repeat().shuffle(5000).batch(200).prefetch(1)\n",
    "batch1 = batch1.repeat().shuffle(5000).batch(200).prefetch(1)\n",
    "\n",
    "\n",
    "learningRate = 0.01\n",
    "optimizer = tf.optimizers.Adam(learningRate)"
   ]
  },
  {
   "cell_type": "code",
   "execution_count": 4,
   "metadata": {},
   "outputs": [],
   "source": [
    "for step, ((bx0, by0), (bx1, by1)) in enumerate(zip(batch0.take(120), batch1.take(150)), 1):\n",
    "    with tf.GradientTape() as g:\n",
    "        loss = tf.nn.softmax_cross_entropy_with_logits(by0, inv(bx0, 0))\n",
    "        loss = loss + tf.nn.softmax_cross_entropy_with_logits(by1, inv(bx1, 1))\n",
    "        \n",
    "    trainable_variables = inv.trainable_variables\n",
    "    gradients = g.gradient(loss, trainable_variables)\n",
    "    optimizer.apply_gradients(zip(gradients, trainable_variables))"
   ]
  },
  {
   "cell_type": "code",
   "execution_count": 5,
   "metadata": {},
   "outputs": [
    {
     "data": {
      "text/plain": [
       "TensorShape([1200, 64])"
      ]
     },
     "execution_count": 5,
     "metadata": {},
     "output_type": "execute_result"
    }
   ],
   "source": [
    "x0.shape"
   ]
  },
  {
   "cell_type": "code",
   "execution_count": 11,
   "metadata": {},
   "outputs": [],
   "source": [
    "x = np.random.normal(0, 1, (10,3))\n",
    "y = np.random.normal(0, 1, (10,3))"
   ]
  },
  {
   "cell_type": "code",
   "execution_count": 12,
   "metadata": {},
   "outputs": [],
   "source": [
    "def WDist(x, y, reg):\n",
    "    \"\"\"\n",
    "    :param x: (na, 2)\n",
    "    :param y: (nb, 2)\n",
    "    :return:\n",
    "    \"\"\"\n",
    "    nx = x.shape[0]\n",
    "    ny = y.shape[0]\n",
    "    histX = np.ones((nx,))/nx\n",
    "    histX = tf.cast(histX, dtype = tf.float32)\n",
    "    histY = np.ones((ny,))/ny\n",
    "    histY = tf.cast(histY, dtype = tf.float32)\n",
    "    mmp1 = tf.tile(tf.expand_dims(x, axis=1), [1, y.shape[0], 1])  # (na, nb, 2)\n",
    "    mmp2 = tf.tile(tf.expand_dims(y, axis=0), [x.shape[0], 1, 1])  # (na, nb, 2)\n",
    "\n",
    "    mm = tf.sqrt(tf.reduce_sum(tf.square(tf.subtract(mmp1, mmp2)), axis=2))  # (na, nb)\n",
    "    mm = tf.cast(mm, dtype = tf.float32)\n",
    "    T = ot.sinkhorn(histX, histY, mm, reg)\n",
    "    \n",
    "    return mm"
   ]
  },
  {
   "cell_type": "code",
   "execution_count": 18,
   "metadata": {},
   "outputs": [],
   "source": [
    "nx = x.shape[0]\n",
    "ny = y.shape[0]\n",
    "M = dmat(x,y)\n",
    "histX = np.ones((nx,))/nx\n",
    "histX = tf.cast(histX, dtype = tf.float32)\n",
    "histY = np.ones((ny,))/ny\n",
    "histY = tf.cast(histY, dtype = tf.float32)\n",
    "T = ot.sinkhorn(histX, histY, M, 1)"
   ]
  },
  {
   "cell_type": "code",
   "execution_count": 19,
   "metadata": {},
   "outputs": [
    {
     "data": {
      "text/plain": [
       "array([[0.00791357, 0.0095655 , 0.01831183, 0.00408009, 0.00544475,\n",
       "        0.00674669, 0.00844901, 0.00438455, 0.01234625, 0.02275776],\n",
       "       [0.02077406, 0.01293324, 0.00400238, 0.0058651 , 0.00550861,\n",
       "        0.00989703, 0.00603599, 0.02135876, 0.01021414, 0.0034107 ],\n",
       "       [0.00797319, 0.01058248, 0.01230927, 0.00668704, 0.01043484,\n",
       "        0.0107341 , 0.01400176, 0.00784463, 0.01025335, 0.00917935],\n",
       "       [0.00627735, 0.00704867, 0.00749176, 0.00932166, 0.01422727,\n",
       "        0.01447387, 0.01475634, 0.00710511, 0.01165989, 0.00763807],\n",
       "       [0.00746371, 0.00995511, 0.01382115, 0.00680734, 0.01031016,\n",
       "        0.00994715, 0.01237634, 0.00651472, 0.01065249, 0.01215183],\n",
       "       [0.01595954, 0.00972   , 0.00280238, 0.01308259, 0.00941025,\n",
       "        0.0122434 , 0.005273  , 0.02003469, 0.00879487, 0.00267928],\n",
       "       [0.01099474, 0.01159207, 0.02220033, 0.00207922, 0.00245843,\n",
       "        0.00401915, 0.00494281, 0.00364239, 0.01149988, 0.02657098],\n",
       "       [0.00199007, 0.00168718, 0.0020192 , 0.04038168, 0.02436572,\n",
       "        0.00994668, 0.0037175 , 0.00219223, 0.00758916, 0.00611058],\n",
       "       [0.00957723, 0.01119982, 0.00789299, 0.00575089, 0.00857003,\n",
       "        0.01209205, 0.01783222, 0.01202475, 0.00992609, 0.00513393],\n",
       "       [0.01107654, 0.01571595, 0.00914871, 0.00594441, 0.00926993,\n",
       "        0.00989988, 0.01261503, 0.01489816, 0.00706388, 0.00436752]])"
      ]
     },
     "execution_count": 19,
     "metadata": {},
     "output_type": "execute_result"
    }
   ],
   "source": [
    "T"
   ]
  },
  {
   "cell_type": "code",
   "execution_count": null,
   "metadata": {},
   "outputs": [],
   "source": []
  }
 ],
 "metadata": {
  "kernelspec": {
   "display_name": "Python 3",
   "language": "python",
   "name": "python3"
  },
  "language_info": {
   "codemirror_mode": {
    "name": "ipython",
    "version": 3
   },
   "file_extension": ".py",
   "mimetype": "text/x-python",
   "name": "python",
   "nbconvert_exporter": "python",
   "pygments_lexer": "ipython3",
   "version": "3.7.4"
  }
 },
 "nbformat": 4,
 "nbformat_minor": 2
}
