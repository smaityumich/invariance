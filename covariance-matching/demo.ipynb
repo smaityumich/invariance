{
 "cells": [
  {
   "cell_type": "markdown",
   "metadata": {},
   "source": [
    "## A demonstration for enforcing invariance\n",
    "\n",
    "Here we enforce invariance through wasserstein distance"
   ]
  },
  {
   "cell_type": "markdown",
   "metadata": {},
   "source": [
    "### Required modules"
   ]
  },
  {
   "cell_type": "code",
   "execution_count": 1,
   "metadata": {},
   "outputs": [],
   "source": [
    "import data_load as data\n",
    "import numpy as np\n",
    "import tensorflow as tf\n",
    "import setup\n",
    "import utils\n",
    "#tf.debugging.set_log_device_placement(True)"
   ]
  },
  {
   "cell_type": "markdown",
   "metadata": {},
   "source": [
    "### Load and preprocess coloured MNIST data"
   ]
  },
  {
   "cell_type": "code",
   "execution_count": 2,
   "metadata": {},
   "outputs": [],
   "source": [
    "# Setting seed\n",
    "np.random.seed(1)\n",
    "\n",
    "# Load data\n",
    "data_train, data_test = data.make_environments(path='../MNIST', red_0_corrs = [0.8, 0.9])\n",
    "\n",
    "# Unpack data\n",
    "x0_train, y0_train = data_train[0]\n",
    "x1_train, y1_train = data_train[1]\n",
    "x_test, y_test = data_test\n",
    "\n",
    "# Casting to tensor and repacking data\n",
    "x0_train, x1_train = tf.cast(x0_train, dtype=tf.float32), tf.cast(x1_train, dtype=tf.float32)\n",
    "y0_train, y1_train = tf.one_hot(y0_train, 2), tf.one_hot(y1_train, 2)\n",
    "data_train = [[x0_train, y0_train], [x1_train, y1_train]]\n",
    "\n",
    "x_test, y_test = tf.cast(x_test, dtype=tf.float32), tf.one_hot(y_test, 2)\n",
    "data_test = [x_test, y_test]"
   ]
  },
  {
   "cell_type": "markdown",
   "metadata": {},
   "source": [
    "### Setting up graphs and experiments"
   ]
  },
  {
   "cell_type": "code",
   "execution_count": 3,
   "metadata": {},
   "outputs": [],
   "source": [
    "expt = setup.Invariance(epoch = 10000, learning_rate = 5e-4)\n",
    "expt.create_graph()\n",
    "expt.potential_graph()"
   ]
  },
  {
   "cell_type": "code",
   "execution_count": 4,
   "metadata": {},
   "outputs": [],
   "source": [
    "expt.load_full_data(data_train, data_test)\n",
    "expt.data_steam(data_train, data_test)\n",
    "expt.create_tensorboard()"
   ]
  },
  {
   "cell_type": "code",
   "execution_count": null,
   "metadata": {},
   "outputs": [
    {
     "name": "stdout",
     "output_type": "stream",
     "text": [
      "Test accuracy at step 500: 0.1062999963760376\n",
      "WARNING:tensorflow:From /Users/smaity/Library/Python/3.7/lib/python/site-packages/tensorflow_core/python/ops/array_grad.py:563: _EagerTensorBase.cpu (from tensorflow.python.framework.ops) is deprecated and will be removed in a future version.\n",
      "Instructions for updating:\n",
      "Use tf.identity instead.\n",
      "Test accuracy at step 1000: 0.13040000200271606\n",
      "Test accuracy at step 1500: 0.15520000457763672\n",
      "Test accuracy at step 2000: 0.1753000020980835\n",
      "Test accuracy at step 2500: 0.20800000429153442\n",
      "Test accuracy at step 3000: 0.20250000059604645\n",
      "Test accuracy at step 3500: 0.20880000293254852\n",
      "Test accuracy at step 4000: 0.27799999713897705\n"
     ]
    }
   ],
   "source": [
    "expt.fit()"
   ]
  },
  {
   "cell_type": "code",
   "execution_count": null,
   "metadata": {},
   "outputs": [],
   "source": []
  }
 ],
 "metadata": {
  "kernelspec": {
   "display_name": "Python 3.7.4 64-bit",
   "language": "python",
   "name": "python37464bit48aa32fa6dba4f1bbd692e320b15fd93"
  },
  "language_info": {
   "codemirror_mode": {
    "name": "ipython",
    "version": 3
   },
   "file_extension": ".py",
   "mimetype": "text/x-python",
   "name": "python",
   "nbconvert_exporter": "python",
   "pygments_lexer": "ipython3",
   "version": "3.7.4"
  }
 },
 "nbformat": 4,
 "nbformat_minor": 2
}
