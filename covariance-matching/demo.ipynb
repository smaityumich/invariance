{
 "cells": [
  {
   "cell_type": "markdown",
   "metadata": {},
   "source": [
    "## A demonstration for enforcing invariance\n",
    "\n",
    "Here we enforce invariance through wasserstein distance"
   ]
  },
  {
   "cell_type": "markdown",
   "metadata": {},
   "source": [
    "### Required modules"
   ]
  },
  {
   "cell_type": "code",
   "execution_count": 1,
   "metadata": {},
   "outputs": [],
   "source": [
    "import data_load as data\n",
    "import numpy as np\n",
    "import tensorflow as tf\n",
    "import setup\n",
    "import utils\n",
    "#tf.debugging.set_log_device_placement(True)"
   ]
  },
  {
   "cell_type": "markdown",
   "metadata": {},
   "source": [
    "### Load and preprocess coloured MNIST data"
   ]
  },
  {
   "cell_type": "code",
   "execution_count": 2,
   "metadata": {},
   "outputs": [],
   "source": [
    "# Setting seed\n",
    "np.random.seed(1)\n",
    "\n",
    "# Load data\n",
    "data_train, data_test = data.make_environments(path='../MNIST', red_0_corrs = [0.8, 0.9])\n",
    "\n",
    "# Unpack data\n",
    "x0_train, y0_train = data_train[0]\n",
    "x1_train, y1_train = data_train[1]\n",
    "x_test, y_test = data_test\n",
    "\n",
    "# Casting to tensor and repacking data\n",
    "x0_train, x1_train = tf.cast(x0_train, dtype=tf.float32), tf.cast(x1_train, dtype=tf.float32)\n",
    "y0_train, y1_train = tf.one_hot(y0_train, 2), tf.one_hot(y1_train, 2)\n",
    "data_train = [[x0_train, y0_train], [x1_train, y1_train]]\n",
    "\n",
    "x_test, y_test = tf.cast(x_test, dtype=tf.float32), tf.one_hot(y_test, 2)\n",
    "data_test = [x_test, y_test]"
   ]
  },
  {
   "cell_type": "markdown",
   "metadata": {},
   "source": [
    "### Setting up graphs and experiments"
   ]
  },
  {
   "cell_type": "code",
   "execution_count": 3,
   "metadata": {},
   "outputs": [],
   "source": [
    "expt = setup.Invariance(epoch = 10000, learning_rate = 5e-2, lr_wasserstein = 5e-4, reg_covar = 5, \\\n",
    "                       epsilon = 10)\n",
    "expt.create_graph()\n",
    "expt.potential_graph()"
   ]
  },
  {
   "cell_type": "code",
   "execution_count": 4,
   "metadata": {},
   "outputs": [],
   "source": [
    "expt.load_full_data(data_train, data_test)\n",
    "expt.data_steam(data_train, data_test)\n",
    "expt.create_tensorboard()"
   ]
  },
  {
   "cell_type": "code",
   "execution_count": null,
   "metadata": {},
   "outputs": [
    {
     "name": "stdout",
     "output_type": "stream",
     "text": [
      "WARNING:tensorflow:From /home/subha/.local/lib/python3.6/site-packages/tensorflow/python/ops/array_grad.py:644: _EagerTensorBase.cpu (from tensorflow.python.framework.ops) is deprecated and will be removed in a future version.\n",
      "Instructions for updating:\n",
      "Use tf.identity instead.\n",
      "Test accuracy at step 100: 0.10249999910593033\n",
      "Test accuracy at step 200: 0.10419999808073044\n",
      "Test accuracy at step 300: 0.15780000388622284\n",
      "Test accuracy at step 400: 0.29159998893737793\n",
      "Test accuracy at step 500: 0.5062999725341797\n",
      "Test accuracy at step 600: 0.5062999725341797\n",
      "Test accuracy at step 700: 0.5062999725341797\n",
      "Test accuracy at step 800: 0.5062999725341797\n",
      "Test accuracy at step 900: 0.5062999725341797\n"
     ]
    }
   ],
   "source": [
    "expt.fit()"
   ]
  },
  {
   "cell_type": "code",
   "execution_count": null,
   "metadata": {},
   "outputs": [],
   "source": []
  }
 ],
 "metadata": {
  "kernelspec": {
   "display_name": "Python 3",
   "language": "python",
   "name": "python3"
  },
  "language_info": {
   "codemirror_mode": {
    "name": "ipython",
    "version": 3
   },
   "file_extension": ".py",
   "mimetype": "text/x-python",
   "name": "python",
   "nbconvert_exporter": "python",
   "pygments_lexer": "ipython3",
   "version": "3.6.9"
  }
 },
 "nbformat": 4,
 "nbformat_minor": 2
}
