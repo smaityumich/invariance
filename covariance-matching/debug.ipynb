{
 "cells": [
  {
   "cell_type": "code",
   "execution_count": 1,
   "metadata": {},
   "outputs": [
    {
     "output_type": "stream",
     "name": "stdout",
     "text": "Help on function concat in module tensorflow.python.ops.array_ops:\n\nconcat(values, axis, name='concat')\n    Concatenates tensors along one dimension.\n    \n    Concatenates the list of tensors `values` along dimension `axis`.  If\n    `values[i].shape = [D0, D1, ... Daxis(i), ...Dn]`, the concatenated\n    result has shape\n    \n        [D0, D1, ... Raxis, ...Dn]\n    \n    where\n    \n        Raxis = sum(Daxis(i))\n    \n    That is, the data from the input tensors is joined along the `axis`\n    dimension.\n    \n    The number of dimensions of the input tensors must match, and all dimensions\n    except `axis` must be equal.\n    \n    For example:\n    \n    >>> t1 = [[1, 2, 3], [4, 5, 6]]\n    >>> t2 = [[7, 8, 9], [10, 11, 12]]\n    >>> concat([t1, t2], 0)\n    <tf.Tensor: shape=(4, 3), dtype=int32, numpy=\n    array([[ 1,  2,  3],\n           [ 4,  5,  6],\n           [ 7,  8,  9],\n           [10, 11, 12]], dtype=int32)>\n    \n    >>> concat([t1, t2], 1)\n    <tf.Tensor: shape=(2, 6), dtype=int32, numpy=\n    array([[ 1,  2,  3,  7,  8,  9],\n           [ 4,  5,  6, 10, 11, 12]], dtype=int32)>\n    \n    As in Python, the `axis` could also be negative numbers. Negative `axis`\n    are interpreted as counting from the end of the rank, i.e.,\n     `axis + rank(values)`-th dimension.\n    \n    For example:\n    \n    >>> t1 = [[[1, 2], [2, 3]], [[4, 4], [5, 3]]]\n    >>> t2 = [[[7, 4], [8, 4]], [[2, 10], [15, 11]]]\n    >>> tf.concat([t1, t2], -1)\n    <tf.Tensor: shape=(2, 2, 4), dtype=int32, numpy=\n      array([[[ 1,  2,  7,  4],\n              [ 2,  3,  8,  4]],\n             [[ 4,  4,  2, 10],\n              [ 5,  3, 15, 11]]], dtype=int32)>\n    \n    Note: If you are concatenating along a new axis consider using stack.\n    E.g.\n    \n    ```python\n    tf.concat([tf.expand_dims(t, axis) for t in tensors], axis)\n    ```\n    \n    can be rewritten as\n    \n    ```python\n    tf.stack(tensors, axis=axis)\n    ```\n    \n    Args:\n      values: A list of `Tensor` objects or a single `Tensor`.\n      axis: 0-D `int32` `Tensor`.  Dimension along which to concatenate. Must be\n        in the range `[-rank(values), rank(values))`. As in Python, indexing for\n        axis is 0-based. Positive axis in the rage of `[0, rank(values))` refers\n        to `axis`-th dimension. And negative axis refers to `axis +\n        rank(values)`-th dimension.\n      name: A name for the operation (optional).\n    \n    Returns:\n      A `Tensor` resulting from concatenation of the input tensors.\n\n"
    }
   ],
   "source": [
    "import tensorflow as tf\n",
    "help(tf.concat)"
   ]
  },
  {
   "cell_type": "code",
   "execution_count": 2,
   "metadata": {},
   "outputs": [],
   "source": [
    "a = tf.cast([[1, 2]], dtype=tf.float16)"
   ]
  },
  {
   "cell_type": "code",
   "execution_count": 4,
   "metadata": {},
   "outputs": [
    {
     "output_type": "execute_result",
     "data": {
      "text/plain": "2"
     },
     "metadata": {},
     "execution_count": 4
    }
   ],
   "source": [
    "a.shape[1]"
   ]
  },
  {
   "cell_type": "code",
   "execution_count": null,
   "metadata": {},
   "outputs": [],
   "source": []
  }
 ],
 "metadata": {
  "language_info": {
   "codemirror_mode": {
    "name": "ipython",
    "version": 3
   },
   "file_extension": ".py",
   "mimetype": "text/x-python",
   "name": "python",
   "nbconvert_exporter": "python",
   "pygments_lexer": "ipython3",
   "version": "3.7.4-final"
  },
  "orig_nbformat": 2,
  "kernelspec": {
   "name": "python37464bit48aa32fa6dba4f1bbd692e320b15fd93",
   "display_name": "Python 3.7.4 64-bit"
  }
 },
 "nbformat": 4,
 "nbformat_minor": 2
}