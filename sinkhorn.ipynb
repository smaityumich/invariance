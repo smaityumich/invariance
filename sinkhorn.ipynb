{
 "cells": [
  {
   "cell_type": "code",
   "execution_count": 36,
   "metadata": {},
   "outputs": [],
   "source": [
    "import tensorflow as tf\n",
    "from tensorflow.keras import Model, layers\n",
    "import numpy as np"
   ]
  },
  {
   "cell_type": "code",
   "execution_count": 37,
   "metadata": {},
   "outputs": [],
   "source": [
    "def dist(a, b):\n",
    "    M1 = tf.tile(tf.expand_dims(a, axis=1), [1, y.shape[0], 1])  # (na, nb, 2)\n",
    "    M2 = tf.tile(tf.expand_dims(b, axis=0), [x.shape[0], 1, 1])  # (na, nb, 2)\n",
    "    M = tf.sqrt(tf.reduce_sum(tf.square(tf.subtract(M1, M2)), axis=2))  # (na, nb)\n",
    "    return M"
   ]
  },
  {
   "cell_type": "code",
   "execution_count": 38,
   "metadata": {},
   "outputs": [],
   "source": [
    "def sinkhorn(a, b, M,  reg, L):\n",
    "    gamma = tf.cast(1/reg, dtype=tf.float32)\n",
    "    K = tf.exp(-tf.math.scalar_mul(gamma, M))\n",
    "    v = tf.cast(np.ones((b.shape[0],)), dtype = tf.float32)\n",
    "    for _ in range(L):\n",
    "        u = tf.math.divide(a, tf.linalg.matvec(K, v))\n",
    "        v = tf.math.divide(b, tf.linalg.matvec(K, u, transpose_a = True))\n",
    "    P = tf.linalg.matmul(tf.linalg.tensor_diag(u), K)\n",
    "    P = tf.linalg.matmul(P, tf.linalg.tensor_diag(v))\n",
    "    return tf.reduce_sum(tf.math.multiply(P, M))"
   ]
  },
  {
   "cell_type": "code",
   "execution_count": 39,
   "metadata": {},
   "outputs": [
    {
     "data": {
      "text/plain": [
       "<tf.Tensor: id=1042, shape=(), dtype=float32, numpy=1.2682142>"
      ]
     },
     "execution_count": 39,
     "metadata": {},
     "output_type": "execute_result"
    }
   ],
   "source": [
    "x = np.random.normal(0, 1, (20, 3))\n",
    "y = np.random.normal(0, 1, (20, 3))\n",
    "x = tf.cast(x, dtype=tf.float32)\n",
    "y = tf.cast(y, dtype=tf.float32)\n",
    "M = dist(x, y)\n",
    "reg = 2\n",
    "a = tf.cast(np.ones((20,))/20, dtype = tf.float32)\n",
    "b = tf.cast(np.ones((20,))/20, dtype = tf.float32)\n",
    "sinkhorn(a, b, M, 0.1, 5)"
   ]
  },
  {
   "cell_type": "code",
   "execution_count": 14,
   "metadata": {},
   "outputs": [
    {
     "data": {
      "text/plain": [
       "<tf.Tensor: id=78, shape=(), dtype=float32, numpy=0.5>"
      ]
     },
     "execution_count": 14,
     "metadata": {},
     "output_type": "execute_result"
    }
   ],
   "source": [
    "gamma"
   ]
  },
  {
   "cell_type": "code",
   "execution_count": 15,
   "metadata": {},
   "outputs": [],
   "source": [
    "D = dist(a, b)\n",
    "D"
   ]
  },
  {
   "cell_type": "code",
   "execution_count": 24,
   "metadata": {},
   "outputs": [
    {
     "data": {
      "text/plain": [
       "<tf.Tensor: id=145, shape=(2,), dtype=float32, numpy=array([ 5., 11.], dtype=float32)>"
      ]
     },
     "execution_count": 24,
     "metadata": {},
     "output_type": "execute_result"
    }
   ],
   "source": [
    "u = tf.cast([1,2], dtype = tf.float32)\n",
    "v = tf.cast([[1,2],[3,4]], dtype = tf.float32)\n",
    "tf.linalg.matvec(v,u)"
   ]
  },
  {
   "cell_type": "code",
   "execution_count": null,
   "metadata": {},
   "outputs": [],
   "source": []
  }
 ],
 "metadata": {
  "kernelspec": {
   "display_name": "Python 3",
   "language": "python",
   "name": "python3"
  },
  "language_info": {
   "codemirror_mode": {
    "name": "ipython",
    "version": 3
   },
   "file_extension": ".py",
   "mimetype": "text/x-python",
   "name": "python",
   "nbconvert_exporter": "python",
   "pygments_lexer": "ipython3",
   "version": "3.7.4"
  }
 },
 "nbformat": 4,
 "nbformat_minor": 2
}
