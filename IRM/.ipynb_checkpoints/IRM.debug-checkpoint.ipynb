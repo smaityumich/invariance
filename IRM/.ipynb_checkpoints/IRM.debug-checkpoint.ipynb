{
 "cells": [
  {
   "cell_type": "code",
   "execution_count": 1,
   "metadata": {},
   "outputs": [],
   "source": [
    "import tensorflow as tf\n",
    "import sinkhorn as sh\n",
    "import numpy as np\n",
    "import setup_irm\n",
    "import datetime\n",
    "from tensorflow import keras\n",
    "import matplotlib.pyplot as plt\n",
    "import sys\n",
    "import json\n",
    "from data_load import *"
   ]
  },
  {
   "cell_type": "code",
   "execution_count": 2,
   "metadata": {},
   "outputs": [],
   "source": [
    "data_train, data_test = make_environments(path='MNIST', red_0_corrs=[0.1, 0.3])\n",
    "\n",
    "x0_train, y0_train = data_train[0]\n",
    "x1_train, y1_train = data_train[1]\n",
    "x_test, y_test = data_test\n",
    "\n",
    "x0_train, x1_train = tf.cast(x0_train, dtype=tf.float32), tf.cast(x1_train, dtype=tf.float32)\n",
    "y0_train, y1_train = tf.one_hot(y0_train, 2), tf.one_hot(y1_train, 2)\n",
    "data_train = [[x0_train, y0_train], [x1_train, y1_train]]\n",
    "\n",
    "x_test, y_test = tf.cast(x_test, dtype=tf.float32), tf.one_hot(y_test, 2)\n",
    "data_test = [x_test, y_test]"
   ]
  },
  {
   "cell_type": "code",
   "execution_count": null,
   "metadata": {},
   "outputs": [
    {
     "name": "stdout",
     "output_type": "stream",
     "text": [
      "Done step 1\n",
      "\n"
     ]
    }
   ],
   "source": [
    "fitted_graph, current_time, expt_id = setup_irm.IRM(data_train, data_test, num_steps=20, \n",
    "                        reg_wasserstein=1, reg_var = 0, learning_rate = 1e-4, \n",
    "                        wasserstein_epoch = 1, gamma_wasserstein = 1, sinkhorn_iter = 10, wasserstein_start_step = 1)"
   ]
  },
  {
   "cell_type": "code",
   "execution_count": 5,
   "metadata": {},
   "outputs": [],
   "source": [
    "x, y = data_test"
   ]
  },
  {
   "cell_type": "code",
   "execution_count": 6,
   "metadata": {},
   "outputs": [
    {
     "data": {
      "text/plain": [
       "<tf.Tensor: id=15, shape=(10000, 392), dtype=float32, numpy=\n",
       "array([[0., 0., 0., ..., 0., 0., 0.],\n",
       "       [0., 0., 0., ..., 0., 0., 0.],\n",
       "       [0., 0., 0., ..., 0., 0., 0.],\n",
       "       ...,\n",
       "       [0., 0., 0., ..., 0., 0., 0.],\n",
       "       [0., 0., 0., ..., 0., 0., 0.],\n",
       "       [0., 0., 0., ..., 0., 0., 0.]], dtype=float32)>"
      ]
     },
     "execution_count": 6,
     "metadata": {},
     "output_type": "execute_result"
    }
   ],
   "source": [
    "x"
   ]
  },
  {
   "cell_type": "code",
   "execution_count": null,
   "metadata": {},
   "outputs": [],
   "source": []
  }
 ],
 "metadata": {
  "kernelspec": {
   "display_name": "Python 3",
   "language": "python",
   "name": "python3"
  },
  "language_info": {
   "codemirror_mode": {
    "name": "ipython",
    "version": 3
   },
   "file_extension": ".py",
   "mimetype": "text/x-python",
   "name": "python",
   "nbconvert_exporter": "python",
   "pygments_lexer": "ipython3",
   "version": "3.7.4"
  }
 },
 "nbformat": 4,
 "nbformat_minor": 2
}
